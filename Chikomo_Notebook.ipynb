{
 "cells": [
  {
   "cell_type": "markdown",
   "id": "bec17484-64b9-4e08-a07a-a40366d55ea4",
   "metadata": {},
   "source": [
    "# Final Project      \n",
    "### Research Computing: 16:107:606:01 SP TOPC ATMOSPH SCI\n",
    "## By Mazvita Chikomo\n",
    "### Part 1: \n",
    "\n",
    "## Aim:\n",
    "This class project aims to highlight the key coding steps required to download, clean, and analyze freely available real time precipitation data and see its relationship with tree rooting depth utilizing Xarray, MatplotLib, cartopy, and various coding functions and commands.\n",
    "The project is split into 5 Chapters with each chapter described below:\n",
    "\n",
    "##### Chapter 1: Creating and setting up a directory for the files.\n",
    "##### Chapter 2: Pull out precipitation data for many selected sites from a global dataset MSWEP https://www.gloh2o.org/mswep/,\n",
    "##### Chapter 3: Cleaning the data and creating  a pandas data frame from the above precipitation data.\n",
    "##### Chapter 4: I will use functions like group by, to group the date by months, seasons, or by type of plants.\n",
    "##### Chapter 5: I will also do some statistical analysis on the data like mean, perhaps I could also create a linear regression model to test the relationships.\n",
    "I will then use pyplot from matplotlib to visualize how seasonality influences plant rooting depth.\n"
   ]
  },
  {
   "cell_type": "markdown",
   "id": "a1a07bea-71f4-4335-a249-485bb9ca6313",
   "metadata": {},
   "source": [
    "## Chapter 1: Creating and setting up a directory to save the files\n"
   ]
  },
  {
   "cell_type": "markdown",
   "id": "1db052f7-f1b6-47ca-b5e4-c4202f4247a4",
   "metadata": {},
   "source": [
    "#### Steps: \n",
    "1. Go to https://ondemand.hpc.rutgers.edu/ and navigate to open the cluster tab and click the amarel cluster shell access to open Amarel\n",
    "##### After logging in, change directory to our class directory:\n",
    "(base) [mmc368@amarel1 ~]$ cd rcaes\n",
    "\n",
    "##### 2. Activate the class environment:\n",
    "(base) [mmc368@amarel1 rcaes]$ conda activate rcaes_env\n",
    "\n",
    "##### 3.  Verify which directory you are in and make sure you are in your user directory\n",
    "rcaes_env) [mmc368@amarel1 ~]$ pwd\n",
    "/home/mmc368/rcaes\n",
    "\n",
    "##### 4. Create a new directory and name it Final Project\n",
    "rcaes_env) [mmc368@amarel1 ~]$ mkdir Final_Project\n",
    "\n",
    "#### 5. For the rest of the project work in this directory\n",
    "\n"
   ]
  },
  {
   "cell_type": "markdown",
   "id": "ca598934-4fc2-44d1-b41d-c44884a2d3f7",
   "metadata": {},
   "source": [
    "## Chapter 2: Pulling out Precipitation data\n",
    "\r\n",
    "For this project I will be using MSWEP data from: https://www.gloh2o.org/mswe//\n",
    "\r\n",
    "MSWEP is a global precipitation product with a 3‑hourly 0.1° resolution available from 1979 to ~3 hours from real-time. The product is unique in that it merges gauge, satellite, and reanalysis data to obtain the highest quality precipitation estimates at every locatio\n",
    "\n",
    "n.\r\n",
    "MSWEP incorporates daily gauge observations and accounts for gauge reporting times to reduce temporal mismatches between satellite-reanalysis estimates and gauge observations. Near real-time estimates are available with a latency of ~3 hours. MSWEP is compatible with GloH2O’s operational Multi-Source Weather (MSWX); MSWX forecasts can thus be used to extend MSWEP into the future. MSWEP tends to exhibit better performance than other precipitation products in both densely gauged and ungauged regions (Beck et al., 2017, and Beck et al., 201\n",
    "\n",
    "##### To download the data navigate to the bottom of the page and request access by clicking the Apply 9).\r\n",
    ".\r\n",
    "."
   ]
  },
  {
   "cell_type": "code",
   "execution_count": null,
   "id": "243033e2-caa9-4ae1-ab94-eccf67fd7c26",
   "metadata": {},
   "outputs": [],
   "source": []
  }
 ],
 "metadata": {
  "kernelspec": {
   "display_name": "Python 3 (ipykernel)",
   "language": "python",
   "name": "python3"
  },
  "language_info": {
   "codemirror_mode": {
    "name": "ipython",
    "version": 3
   },
   "file_extension": ".py",
   "mimetype": "text/x-python",
   "name": "python",
   "nbconvert_exporter": "python",
   "pygments_lexer": "ipython3",
   "version": "3.9.18"
  }
 },
 "nbformat": 4,
 "nbformat_minor": 5
}
